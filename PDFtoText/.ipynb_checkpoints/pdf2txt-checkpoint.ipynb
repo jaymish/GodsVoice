{
 "cells": [
  {
   "cell_type": "code",
   "execution_count": 1,
   "metadata": {},
   "outputs": [],
   "source": [
    "from PIL import Image\n",
    "import pytesseract\n",
    "import sys\n",
    "from pdf2image import convert_from_path,pdfinfo_from_path\n",
    "import os\n",
    "import time\n",
    "import nltk.data"
   ]
  },
  {
   "cell_type": "markdown",
   "metadata": {},
   "source": [
    "Define the input and output file name"
   ]
  },
  {
   "cell_type": "code",
   "execution_count": 2,
   "metadata": {},
   "outputs": [],
   "source": [
    "start_time = time.time()\n",
    "# Path of the pdf\n",
    "PDF_file = \"books/Science-of-Self-Realization-1977.pdf\"\n",
    "# Creating a text file to write the output\n",
    "outfile = \"output_\"+str(PDF_file.split(\".\")[0])+\".txt\""
   ]
  },
  {
   "cell_type": "markdown",
   "metadata": {},
   "source": [
    "Converting PDF to images"
   ]
  },
  {
   "cell_type": "code",
   "execution_count": 3,
   "metadata": {},
   "outputs": [
    {
     "name": "stdout",
     "output_type": "stream",
     "text": [
      "--- 80.15321612358093 seconds ---\n"
     ]
    }
   ],
   "source": [
    "image_counter = 1\n",
    "# Counter to store images of each page of PDF to image\n",
    "info = pdfinfo_from_path(PDF_file, userpw=None, poppler_path=None)\n",
    "\n",
    "maxPages =info[\"Pages\"]\n",
    "page_interval=2\n",
    "for i in range(1, maxPages+1, page_interval) : \n",
    "    # Store all the pages of the PDF in a variable\n",
    "    pages=convert_from_path(PDF_file, dpi=700, first_page=i, last_page = min(i+page_interval-1,maxPages))\n",
    "    # Iterate through all the pages stored above\n",
    "    for page in pages:\n",
    "        #print(page)\n",
    "        #image file name\n",
    "        filename = str(PDF_file.split(\".\")[0])+\"_page_\"+str(image_counter)+\".jpg\"\n",
    "          \n",
    "        # Save the image of the page in system\n",
    "        page.save(filename, 'JPEG')\n",
    "\n",
    "        # Increment the counter to update filename\n",
    "        image_counter = image_counter + 1\n",
    "        del page\n",
    "    del pages\n",
    "print(\"--- %s seconds ---\" % (time.time() - start_time))"
   ]
  },
  {
   "cell_type": "markdown",
   "metadata": {},
   "source": [
    "Recognizing text from the images using OCR"
   ]
  },
  {
   "cell_type": "code",
   "execution_count": 4,
   "metadata": {},
   "outputs": [
    {
     "name": "stdout",
     "output_type": "stream",
     "text": [
      "--- 461.32638239860535 seconds ---\n"
     ]
    }
   ],
   "source": [
    "# Variable to get count of total number of pages\n",
    "filelimit = image_counter-1\n",
    "\n",
    "# Open the file in append mode so that \n",
    "# All contents of all images are added to the same file\n",
    "f = open(outfile, \"w\")\n",
    "  \n",
    "# Iterate from 1 to total number of pages\n",
    "for i in range(1, filelimit + 1):\n",
    "  \n",
    "\n",
    "    #filename = \"page_\"+str(i)+\".jpg\"\n",
    "    filename = str(PDF_file.split(\".\")[0])+\"_page_\"+str(i)+\".jpg\"\n",
    "          \n",
    "    # Recognize the text as string in image using pytesserct\n",
    "    text = str(((pytesseract.image_to_string(Image.open(filename),config=r'--tessdata-dir \"C:\\Program Files\\Tesseract-OCR\\tessdata\"'))))\n",
    "  \n",
    "   \n",
    "    text = text.replace('-\\n', '') \n",
    "    text = text.replace('\f",
    "', '') \n",
    "  \n",
    "    # Finally, write the processed text to the file.\n",
    "    f.write(text)\n",
    "    \n",
    "    #deleting the image files already processed\n",
    "    os.remove(filename) \n",
    "  \n",
    "# Close the file after writing all the text.\n",
    "f.close()\n",
    "print(\"--- %s seconds ---\" % (time.time() - start_time))"
   ]
  },
  {
   "cell_type": "markdown",
   "metadata": {},
   "source": [
    "Get output as a sentence in a line"
   ]
  },
  {
   "cell_type": "code",
   "execution_count": null,
   "metadata": {},
   "outputs": [],
   "source": [
    "a_file = open(outfile, \"r\",encoding=\"ISO-8859-1\")\n",
    "lines = a_file.readlines()\n",
    "a_file.close()\n",
    "\n",
    "\n",
    "new_file = open(outfile, \"w\",encoding=\"ISO-8859-1\")\n",
    "for line in lines:\n",
    "    if not (line.startswith('Page |')):\n",
    "        line=line.replace('\\n',' ')\n",
    "        new_file.write(line)\n",
    "new_file.close()"
   ]
  },
  {
   "cell_type": "code",
   "execution_count": null,
   "metadata": {},
   "outputs": [],
   "source": [
    "tokenizer = nltk.data.load('tokenizers/punkt/english.pickle')\n",
    "fp = open(outfile,\"r\",encoding=\"ISO-8859-1\")\n",
    "data = fp.read()\n",
    "fp.close()\n",
    "text='\\n'.join(tokenizer.tokenize(data))\n",
    "f=open(outfile, \"w\",encoding=\"ISO-8859-1\")\n",
    "#print(text)\n",
    "f.write(text)\n",
    "f.close()\n",
    "print(\"--- %s seconds ---\" % (time.time() - start_time))"
   ]
  },
  {
   "cell_type": "code",
   "execution_count": null,
   "metadata": {},
   "outputs": [],
   "source": [
    "import pandas as pd\n",
    "\n",
    "data = pd.read_fwf(outfile, header = None, delimiter='\\n')\n",
    "print(data)"
   ]
  },
  {
   "cell_type": "code",
   "execution_count": 6,
   "metadata": {},
   "outputs": [
    {
     "name": "stdout",
     "output_type": "stream",
     "text": [
      "Collecting pdf2image\n",
      "  Downloading pdf2image-1.16.0-py3-none-any.whl (10 kB)\n",
      "Requirement already satisfied: pillow in c:\\users\\jaymish\\desktop\\pcs\\web2txt\\webapp\\venv\\lib\\site-packages (from pdf2image) (8.3.1)\n",
      "Installing collected packages: pdf2image\n",
      "Successfully installed pdf2image-1.16.0\n",
      "Note: you may need to restart the kernel to use updated packages.\n"
     ]
    }
   ],
   "source": [
    "pip install pdf2image"
   ]
  },
  {
   "cell_type": "code",
   "execution_count": null,
   "metadata": {},
   "outputs": [],
   "source": []
  }
 ],
 "metadata": {
  "kernelspec": {
   "display_name": "'Gosdvoice'",
   "language": "python",
   "name": "python3"
  },
  "language_info": {
   "codemirror_mode": {
    "name": "ipython",
    "version": 3
   },
   "file_extension": ".py",
   "mimetype": "text/x-python",
   "name": "python",
   "nbconvert_exporter": "python",
   "pygments_lexer": "ipython3",
   "version": "3.7.3"
  }
 },
 "nbformat": 4,
 "nbformat_minor": 4
}
