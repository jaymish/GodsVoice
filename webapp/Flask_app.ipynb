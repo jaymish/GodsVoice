{
 "cells": [
  {
   "cell_type": "code",
   "execution_count": 1,
   "id": "72d3f270",
   "metadata": {},
   "outputs": [],
   "source": [
    "from flask import Flask, render_template, request, redirect, url_for\n",
    "from flask import jsonify\n",
    "import pandas as pd\n",
    "\n",
    "df = pd.read_csv('Q&A.csv',header=0)\n",
    "\n",
    "app = Flask(__name__)"
   ]
  },
  {
   "cell_type": "code",
   "execution_count": 2,
   "id": "39bf69c8",
   "metadata": {},
   "outputs": [],
   "source": [
    "@app.route('/')\n",
    "def homes():\n",
    "    return render_template('/index.html')\n",
    "\n",
    "@app.route('/',methods = ['POST', 'GET'])\n",
    "def home():\n",
    "    return render_template('/index.html')\n",
    "\n",
    "@app.route('/search',methods = ['POST', 'GET'])\n",
    "def search():\n",
    "    if request.method == 'POST':\n",
    "        question = request.form['question']\n",
    "        print(question)\n",
    "        similar_q_id=''\n",
    "        for i in range(len(df['questions'])):\n",
    "            if df['questions'][i] == question:\n",
    "                #answer=df['answers'][i]\n",
    "                similar_q_id=df['similar_q_id'][i]\n",
    "        \n",
    "        if similar_q_id=='':\n",
    "            return redirect(url_for('home'))\n",
    "        else:\n",
    "            return redirect(url_for('result',similar_q_id = similar_q_id))\n",
    "    else:\n",
    "        question = request.form['question']\n",
    "        print(question)\n",
    "        similar_q_id=''\n",
    "        for i in range(len(df['questions'])):\n",
    "            if df['questions'][i] == question:\n",
    "                #answer=df['answers'][i]\n",
    "                similar_q_id=df['similar_q_id'][i]\n",
    "        \n",
    "        if similar_q_id=='':\n",
    "            return redirect(url_for('home'))\n",
    "        else:\n",
    "            return redirect(url_for('result',similar_q_id = similar_q_id))\n",
    "\n",
    "@app.route('/result/<similar_q_id>')\n",
    "def result(similar_q_id):\n",
    "    my_value_count = df[\"similar_q_id\"].value_counts()\n",
    "    a=len(df[df['similar_q_id'] == int(similar_q_id)])\n",
    "    b=df[df['similar_q_id'] == int(similar_q_id)]\n",
    "    return render_template('/result.html',value = b)\n",
    "\n",
    "@app.route('/answer',methods = ['POST', 'GET'])\n",
    "def answer():\n",
    "    if request.method == 'POST':\n",
    "        question = request.form['question']\n",
    "        print(question)\n",
    "        answer=''\n",
    "        for i in range(len(df['questions'])):\n",
    "            if df['questions'][i] == question:\n",
    "                answer=df['answers'][i]\n",
    "        \n",
    "        if answer=='':\n",
    "            return redirect(url_for('home'))\n",
    "        else:\n",
    "            return redirect(url_for('success',answer = answer))\n",
    "    else:\n",
    "        question = request.form['question']\n",
    "        print(question)\n",
    "        answer=''\n",
    "        for i in range(len(df['questions'])):\n",
    "            if df['questions'][i] == question:\n",
    "                answer=df['answers'][i]\n",
    "        if answer=='':\n",
    "            return redirect(url_for('home'))\n",
    "        else:\n",
    "            return redirect(url_for('success',answer = answer))\n",
    "\n",
    "@app.route('/success/<answer>')\n",
    "def success(answer):\n",
    "    return render_template('answer.html', answer = answer)"
   ]
  },
  {
   "cell_type": "code",
   "execution_count": null,
   "id": "dcf3bf4f",
   "metadata": {},
   "outputs": [
    {
     "name": "stdout",
     "output_type": "stream",
     "text": [
      " * Serving Flask app '__main__' (lazy loading)\n",
      " * Environment: production\n",
      "\u001b[31m   WARNING: This is a development server. Do not use it in a production deployment.\u001b[0m\n",
      "\u001b[2m   Use a production WSGI server instead.\u001b[0m\n",
      " * Debug mode: off\n"
     ]
    },
    {
     "name": "stderr",
     "output_type": "stream",
     "text": [
      " * Running on all addresses.\n",
      "   WARNING: This is a development server. Do not use it in a production deployment.\n",
      " * Running on http://192.168.1.32:5000/ (Press CTRL+C to quit)\n",
      "192.168.1.32 - - [19/Jul/2021 08:13:22] \"GET / HTTP/1.1\" 200 -\n",
      "192.168.1.32 - - [19/Jul/2021 08:13:22] \"GET /static/css/new.css HTTP/1.1\" 200 -\n",
      "192.168.1.32 - - [19/Jul/2021 08:13:22] \"GET /static/css/new_1.css HTTP/1.1\" 200 -\n",
      "192.168.1.32 - - [19/Jul/2021 08:13:22] \"GET /static/images/Searchs_130.png HTTP/1.1\" 200 -\n",
      "192.168.1.32 - - [19/Jul/2021 08:13:23] \"GET /favicon.ico HTTP/1.1\" 404 -\n",
      "192.168.1.32 - - [19/Jul/2021 08:13:38] \"POST /search HTTP/1.1\" 302 -\n",
      "192.168.1.32 - - [19/Jul/2021 08:13:38] \"GET /result/3 HTTP/1.1\" 200 -\n"
     ]
    },
    {
     "name": "stdout",
     "output_type": "stream",
     "text": [
      "What is Krsna consciousness?\n"
     ]
    },
    {
     "name": "stderr",
     "output_type": "stream",
     "text": [
      "192.168.1.32 - - [19/Jul/2021 08:13:38] \"GET /static/css/new_1.css HTTP/1.1\" 304 -\n",
      "192.168.1.32 - - [19/Jul/2021 08:13:38] \"GET /static/css/new.css HTTP/1.1\" 200 -\n",
      "192.168.1.32 - - [19/Jul/2021 08:13:38] \"GET /static/images/Searchs_130.png HTTP/1.1\" 200 -\n",
      "192.168.1.32 - - [19/Jul/2021 08:13:51] \"POST /answer HTTP/1.1\" 302 -\n",
      "192.168.1.32 - - [19/Jul/2021 08:13:51] \"GET /success/Krishna%20consciousness%20is%20a%20state%20of%20awareness%20in%20which%20an%20individual%20acts%20in%20complete%20harmony%20with%20the%20Divine%20or%20the%20ultimate%20reality%20of%20Krishna.%20It%20is%20a%20form%20of%20Bhakti%20yoga%20%28or%20devotional%20service%29%20in%20which%20the%20purpose%20is%20to%20devote%20one%27s%20thoughts%2C%20actions%20and%20worship%20to%20pleasing%20Krishna%2C%20who%20some%20consider%20to%20be%20the%20supreme%20god.%20%20To%20act%20with%20Krishna%20consciousness%20is%20to%20free%20the%20self%20from%20the%20illusion%20that%20it%20is%20an%20individual%20body.%20It%20is%20a%20way%20to%20experience%20the%20bliss%20of%20one%27s%20true%2C%20eternal%20nature.%20It%20is%20said%20that%20anyone%20can%20do%20this%20and%20that%20Krishna%20consciousness%20is%20something%20everyone%20has%20naturally.%20%20Practicing%20yoga%20can%20be%20a%20powerful%20tool%20for%20stepping%20outside%20the%20ego%20and%20cultivating%20Krishna%20consciousness.%20 HTTP/1.1\" 200 -\n"
     ]
    },
    {
     "name": "stdout",
     "output_type": "stream",
     "text": [
      "What does Krishna Consciousness mean? \n"
     ]
    },
    {
     "name": "stderr",
     "output_type": "stream",
     "text": [
      "192.168.1.32 - - [19/Jul/2021 08:13:51] \"GET /static/css/new_1.css HTTP/1.1\" 200 -\n",
      "192.168.1.32 - - [19/Jul/2021 08:13:51] \"GET /static/css/new.css HTTP/1.1\" 200 -\n",
      "192.168.1.32 - - [19/Jul/2021 08:13:51] \"GET /static/images/Searchs_130.png HTTP/1.1\" 200 -\n",
      "192.168.1.32 - - [19/Jul/2021 08:13:51] \"GET /favicon.ico HTTP/1.1\" 404 -\n",
      "192.168.1.32 - - [19/Jul/2021 08:14:03] \"POST / HTTP/1.1\" 200 -\n",
      "192.168.1.32 - - [19/Jul/2021 08:14:03] \"GET /static/css/new.css HTTP/1.1\" 200 -\n",
      "192.168.1.32 - - [19/Jul/2021 08:14:03] \"GET /static/css/new_1.css HTTP/1.1\" 200 -\n",
      "192.168.1.32 - - [19/Jul/2021 08:14:04] \"GET /static/images/Searchs_130.png HTTP/1.1\" 200 -\n",
      "192.168.1.32 - - [19/Jul/2021 08:14:04] \"GET /favicon.ico HTTP/1.1\" 404 -\n"
     ]
    }
   ],
   "source": [
    "if __name__ == '__main__':\n",
    "    app.run(host=\"0.0.0.0\")"
   ]
  },
  {
   "cell_type": "code",
   "execution_count": null,
   "id": "92c294a9",
   "metadata": {},
   "outputs": [],
   "source": []
  },
  {
   "cell_type": "code",
   "execution_count": 114,
   "id": "fef96ee4",
   "metadata": {},
   "outputs": [],
   "source": [
    "@app.route('/')\n",
    "def homes():\n",
    "    return render_template('/index.html')\n",
    "\n",
    "@app.route('/result')\n",
    "def result():\n",
    "    return render_template('/search_result.html')\n",
    "\n",
    "@app.route('/',methods = ['POST', 'GET'])\n",
    "def home():\n",
    "    return render_template('/index.html')\n",
    "\n",
    "@app.route('/success/<answer>')\n",
    "def success(answer):\n",
    "    return render_template('answer.html', answer = answer)\n",
    "\n",
    "@app.route('/login',methods = ['POST', 'GET'])\n",
    "def login():\n",
    "    if request.method == 'POST':\n",
    "        question = request.form['question']\n",
    "        print(question)\n",
    "        answer=''\n",
    "        for i in range(len(df['questions'])):\n",
    "            if df['questions'][i] == question:\n",
    "                answer=df['answers'][i]\n",
    "        \n",
    "        if answer=='':\n",
    "            return redirect(url_for('home'))\n",
    "        else:\n",
    "            print(question)\n",
    "            return redirect(url_for('success',answer = answer))\n",
    "    else:\n",
    "        question = request.form['question']\n",
    "        print(question)\n",
    "        answer=''\n",
    "        for i in range(len(df['questions'])):\n",
    "            if df['questions'][i] == question:\n",
    "                answer=df['answers'][i]\n",
    "        if answer=='':\n",
    "            return redirect(url_for('home'))\n",
    "        else:\n",
    "            return redirect(url_for('success',answer = answer))"
   ]
  }
 ],
 "metadata": {
  "kernelspec": {
   "display_name": "'Gosdvoice'",
   "language": "python",
   "name": "python3"
  },
  "language_info": {
   "codemirror_mode": {
    "name": "ipython",
    "version": 3
   },
   "file_extension": ".py",
   "mimetype": "text/x-python",
   "name": "python",
   "nbconvert_exporter": "python",
   "pygments_lexer": "ipython3",
   "version": "3.7.3"
  }
 },
 "nbformat": 4,
 "nbformat_minor": 5
}
