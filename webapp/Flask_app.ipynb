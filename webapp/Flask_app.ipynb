{
 "cells": [
  {
   "cell_type": "code",
   "execution_count": 1,
   "id": "72d3f270",
   "metadata": {},
   "outputs": [],
   "source": [
    "from flask import Flask, render_template, request, redirect, url_for\n",
    "from flask import jsonify\n",
    "import pandas as pd\n",
    "\n",
    "df = pd.read_csv('Q&A.csv',header=0)\n",
    "\n",
    "app = Flask(__name__)"
   ]
  },
  {
   "cell_type": "code",
   "execution_count": 2,
   "id": "39bf69c8",
   "metadata": {},
   "outputs": [],
   "source": [
    "@app.route('/')\n",
    "def homes():\n",
    "    return render_template('/index.html')\n",
    "\n",
    "@app.route('/',methods = ['POST', 'GET'])\n",
    "def home():\n",
    "    return render_template('/index.html')\n",
    "\n",
    "@app.route('/success/<answer>')\n",
    "def success(answer):\n",
    "    return render_template('answer.html', answer = answer)\n",
    "\n",
    "@app.route('/login',methods = ['POST', 'GET'])\n",
    "def login():\n",
    "    if request.method == 'POST':\n",
    "        question = request.form['question']\n",
    "        print(question)\n",
    "        answer=''\n",
    "        for i in range(len(df['questions'])):\n",
    "            if df['questions'][i] == question:\n",
    "                answer=df['answers'][i]\n",
    "        \n",
    "        if answer=='':\n",
    "            return redirect(url_for('home'))\n",
    "        else:\n",
    "            return redirect(url_for('success',answer = answer))\n",
    "    else:\n",
    "        question = request.form['question']\n",
    "        print(question)\n",
    "        answer=''\n",
    "        for i in range(len(df['questions'])):\n",
    "            if df['questions'][i] == question:\n",
    "                answer=df['answers'][i]\n",
    "        if answer=='':\n",
    "            return redirect(url_for('home'))\n",
    "        else:\n",
    "            return redirect(url_for('success',answer = answer))"
   ]
  },
  {
   "cell_type": "code",
   "execution_count": null,
   "id": "dcf3bf4f",
   "metadata": {},
   "outputs": [
    {
     "name": "stdout",
     "output_type": "stream",
     "text": [
      " * Serving Flask app '__main__' (lazy loading)\n",
      " * Environment: production\n",
      "\u001b[31m   WARNING: This is a development server. Do not use it in a production deployment.\u001b[0m\n",
      "\u001b[2m   Use a production WSGI server instead.\u001b[0m\n",
      " * Debug mode: off\n"
     ]
    },
    {
     "name": "stderr",
     "output_type": "stream",
     "text": [
      " * Running on http://127.0.0.1:5000/ (Press CTRL+C to quit)\n",
      "127.0.0.1 - - [13/Jul/2021 09:25:08] \"GET / HTTP/1.1\" 200 -\n",
      "127.0.0.1 - - [13/Jul/2021 09:25:08] \"GET /static/js/extention/choices.js HTTP/1.1\" 200 -\n",
      "127.0.0.1 - - [13/Jul/2021 09:25:08] \"GET /static/css/main.css HTTP/1.1\" 200 -\n",
      "127.0.0.1 - - [13/Jul/2021 09:25:09] \"GET /static/images/Searchs_130.png HTTP/1.1\" 304 -\n"
     ]
    }
   ],
   "source": [
    "if __name__ == '__main__':\n",
    "   app.run()"
   ]
  },
  {
   "cell_type": "code",
   "execution_count": null,
   "id": "92c294a9",
   "metadata": {},
   "outputs": [],
   "source": []
  }
 ],
 "metadata": {
  "kernelspec": {
   "display_name": "'Gosdvoice'",
   "language": "python",
   "name": "python3"
  },
  "language_info": {
   "codemirror_mode": {
    "name": "ipython",
    "version": 3
   },
   "file_extension": ".py",
   "mimetype": "text/x-python",
   "name": "python",
   "nbconvert_exporter": "python",
   "pygments_lexer": "ipython3",
   "version": "3.7.3"
  }
 },
 "nbformat": 4,
 "nbformat_minor": 5
}
