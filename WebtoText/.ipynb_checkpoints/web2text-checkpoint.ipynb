{
 "cells": [
  {
   "cell_type": "code",
   "execution_count": 1,
   "metadata": {},
   "outputs": [],
   "source": [
    "from PIL import Image\n",
    "import requests\n",
    "import pytesseract\n",
    "import os\n",
    "import time"
   ]
  },
  {
   "cell_type": "code",
   "execution_count": 2,
   "metadata": {},
   "outputs": [],
   "source": [
    "outfile=\"output/father_son_study_of_two_temperaments.txt\""
   ]
  },
  {
   "cell_type": "code",
   "execution_count": 3,
   "metadata": {},
   "outputs": [],
   "source": [
    "start_time = time.time()\n",
    "pages=392\n",
    "for x in range(1,pages+1):\n",
    "    url = \"https://ia902507.us.archive.org/BookReader/BookReaderImages.php?zip=/35/items/fathersonstudyof00gossrich/fathersonstudyof00gossrich_jp2.zip&file=fathersonstudyof00gossrich_jp2/fathersonstudyof00gossrich_{:04n}.jp2&id=fathersonstudyof00gossrich&scale=8&rotate=0\".format(x)\n",
    "    #uf = urllib.request.urlopen(url)\n",
    "    #print(x)\n",
    "    im = Image.open(requests.get(url, stream=True).raw)\n",
    "    #html = uf.read() \n",
    "    filename = \"page_\"+str(x)+\".jpg\"\n",
    "    im.save(filename)"
   ]
  },
  {
   "cell_type": "code",
   "execution_count": 4,
   "metadata": {},
   "outputs": [
    {
     "name": "stdout",
     "output_type": "stream",
     "text": [
      "--- 992.4090013504028 seconds ---\n"
     ]
    }
   ],
   "source": [
    "# Variable to get count of total number of pages\n",
    "filelimit = pages\n",
    "\n",
    "# Open the file in append mode so that \n",
    "# All contents of all images are added to the same file\n",
    "f = open(outfile, \"w\")\n",
    "  \n",
    "# Iterate from 1 to total number of pages\n",
    "for i in range(1, filelimit + 1):\n",
    "  \n",
    "\n",
    "    #filename = \"page_\"+str(i)+\".jpg\"\n",
    "    filename = \"page_\"+str(i)+\".jpg\"\n",
    "          \n",
    "    # Recognize the text as string in image using pytesserct\n",
    "    text = str(((pytesseract.image_to_string(Image.open(filename),config=r'--tessdata-dir \"C:\\Program Files\\Tesseract-OCR\\tessdata\"'))))\n",
    "  \n",
    "   \n",
    "    text = text.replace('-\\n', '') \n",
    "    text = text.replace('\f",
    "', '') \n",
    "  \n",
    "    # Finally, write the processed text to the file.\n",
    "    f.write(text)\n",
    "    \n",
    "    #deleting the image files already processed\n",
    "    os.remove(filename) \n",
    "  \n",
    "# Close the file after writing all the text.\n",
    "f.close()\n",
    "print(\"--- %s seconds ---\" % (time.time() - start_time))"
   ]
  },
  {
   "cell_type": "code",
   "execution_count": null,
   "metadata": {},
   "outputs": [],
   "source": []
  }
 ],
 "metadata": {
  "kernelspec": {
   "display_name": "Python 3",
   "language": "python",
   "name": "python3"
  },
  "language_info": {
   "codemirror_mode": {
    "name": "ipython",
    "version": 3
   },
   "file_extension": ".py",
   "mimetype": "text/x-python",
   "name": "python",
   "nbconvert_exporter": "python",
   "pygments_lexer": "ipython3",
   "version": "3.7.6"
  }
 },
 "nbformat": 4,
 "nbformat_minor": 4
}
